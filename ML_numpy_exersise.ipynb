{
  "cells": [
    {
      "cell_type": "markdown",
      "metadata": {
        "id": "qE_9yQMsMLdP"
      },
      "source": [
        "___\n",
        "\n",
        "<a href='http://www.pieriandata.com'><img src='../Pierian_Data_Logo.png'/></a>\n",
        "___\n",
        "<center><em>Авторские права принадлежат Pierian Data</em></center>\n",
        "<center><em>Для дополнительной информации посетите наш сайт <a href='http://www.pieriandata.com'>www.pieriandata.com</a></em></center>"
      ]
    },
    {
      "cell_type": "markdown",
      "metadata": {
        "id": "tSUb3BdKMLdS"
      },
      "source": [
        "# Упражнения по NumPy\n",
        "\n",
        "Давайте проверим Ваши знания NumPy. Мы начнём с достаточно простых задач, и плавно перейдём к более сложным.\n",
        "\n",
        "<div class=\"alert alert-danger\" style=\"margin: 10px\"><strong>ВАЖНОЕ ЗАМЕЧАНИЕ!</strong> Пожалуйста не запускайте ячейки, которые располагаются <br> непосредственно над ожидаемым результатом, иначе Вы удалите этот ожидаемый результат!</div>"
      ]
    },
    {
      "cell_type": "markdown",
      "metadata": {
        "id": "oh0yv4NUMLdS"
      },
      "source": [
        "#### 1. Импортируйте NumPy as np"
      ]
    },
    {
      "cell_type": "code",
      "execution_count": null,
      "metadata": {
        "collapsed": true,
        "id": "HTkiguE1MLdT"
      },
      "outputs": [],
      "source": [
        "import numpy as np"
      ]
    },
    {
      "cell_type": "markdown",
      "metadata": {
        "id": "FbiF9MwYMLdT"
      },
      "source": [
        "#### 2. Создайте массив из 10 нулей"
      ]
    },
    {
      "cell_type": "code",
      "execution_count": null,
      "metadata": {
        "collapsed": true,
        "colab": {
          "base_uri": "https://localhost:8080/"
        },
        "id": "Y1dYpPeWMLdT",
        "outputId": "70452cca-529c-4115-9c24-f1cb10d6747a"
      },
      "outputs": [
        {
          "output_type": "execute_result",
          "data": {
            "text/plain": [
              "array([0., 0., 0., 0., 0., 0., 0., 0., 0., 0.])"
            ]
          },
          "metadata": {},
          "execution_count": 2
        }
      ],
      "source": [
        "# Напишите Ваше решение в этой ячейке\n",
        "np.zeros(10)"
      ]
    },
    {
      "cell_type": "code",
      "execution_count": null,
      "metadata": {
        "id": "VjI6ng51MLdU",
        "outputId": "b844e065-ec6e-4b57-d7c3-3eae85b7d456"
      },
      "outputs": [
        {
          "data": {
            "text/plain": [
              "array([0., 0., 0., 0., 0., 0., 0., 0., 0., 0.])"
            ]
          },
          "execution_count": 2,
          "metadata": {},
          "output_type": "execute_result"
        }
      ],
      "source": [
        "# НЕ ПИШИТЕ В ЭТОЙ ЯЧЕЙКЕ\n"
      ]
    },
    {
      "cell_type": "markdown",
      "metadata": {
        "id": "hZrkGgkPMLdV"
      },
      "source": [
        "#### 3. Создайте массив из 10 единиц"
      ]
    },
    {
      "cell_type": "code",
      "execution_count": null,
      "metadata": {
        "collapsed": true,
        "colab": {
          "base_uri": "https://localhost:8080/"
        },
        "id": "eYeh7dlRMLdV",
        "outputId": "a14a469e-a79b-45d3-e99b-745c1138872f"
      },
      "outputs": [
        {
          "output_type": "execute_result",
          "data": {
            "text/plain": [
              "array([1., 1., 1., 1., 1., 1., 1., 1., 1., 1.])"
            ]
          },
          "metadata": {},
          "execution_count": 3
        }
      ],
      "source": [
        "# Напишите Ваше решение в этой ячейке\n",
        "np.ones(10)"
      ]
    },
    {
      "cell_type": "code",
      "execution_count": null,
      "metadata": {
        "id": "7_Yb-zrjMLdV",
        "outputId": "0fc0d63b-6bf3-497a-920f-f3c29b13fc2f"
      },
      "outputs": [
        {
          "data": {
            "text/plain": [
              "array([1., 1., 1., 1., 1., 1., 1., 1., 1., 1.])"
            ]
          },
          "execution_count": 3,
          "metadata": {},
          "output_type": "execute_result"
        }
      ],
      "source": [
        "# НЕ ПИШИТЕ В ЭТОЙ ЯЧЕЙКЕ\n"
      ]
    },
    {
      "cell_type": "markdown",
      "metadata": {
        "id": "js8h0yqoMLdW"
      },
      "source": [
        "#### 4. Создайте массив из 10 пятёрок"
      ]
    },
    {
      "cell_type": "code",
      "execution_count": null,
      "metadata": {
        "collapsed": true,
        "colab": {
          "base_uri": "https://localhost:8080/"
        },
        "id": "m-0VICJrMLdW",
        "outputId": "ed4eb755-a806-4be8-fa8d-0c939f315313"
      },
      "outputs": [
        {
          "output_type": "execute_result",
          "data": {
            "text/plain": [
              "array([5., 5., 5., 5., 5., 5., 5., 5., 5., 5.])"
            ]
          },
          "metadata": {},
          "execution_count": 54
        }
      ],
      "source": [
        "# Напишите Ваше решение в этой ячейке\n",
        "arr = np.ones(10)\n",
        "arr[0:10]=5\n",
        "arr"
      ]
    },
    {
      "cell_type": "code",
      "execution_count": null,
      "metadata": {
        "id": "7dk6qxqGMLdW",
        "outputId": "bc7dc1f4-7014-46aa-baf7-1e18c392f4a3"
      },
      "outputs": [
        {
          "data": {
            "text/plain": [
              "array([5., 5., 5., 5., 5., 5., 5., 5., 5., 5.])"
            ]
          },
          "execution_count": 4,
          "metadata": {},
          "output_type": "execute_result"
        }
      ],
      "source": [
        "# НЕ ПИШИТЕ В ЭТОЙ ЯЧЕЙКЕ\n"
      ]
    },
    {
      "cell_type": "markdown",
      "metadata": {
        "id": "cDXKnfTdMLdX"
      },
      "source": [
        "#### 5. Создайте массив целых чисел от 10 до 50 включительно"
      ]
    },
    {
      "cell_type": "code",
      "execution_count": null,
      "metadata": {
        "collapsed": true,
        "colab": {
          "base_uri": "https://localhost:8080/"
        },
        "id": "RZFD101WMLdX",
        "outputId": "a8adcdd5-9269-484a-e8b5-7028f689d462"
      },
      "outputs": [
        {
          "output_type": "execute_result",
          "data": {
            "text/plain": [
              "array([10, 11, 12, 13, 14, 15, 16, 17, 18, 19, 20, 21, 22, 23, 24, 25, 26,\n",
              "       27, 28, 29, 30, 31, 32, 33, 34, 35, 36, 37, 38, 39, 40, 41, 42, 43,\n",
              "       44, 45, 46, 47, 48, 49, 50])"
            ]
          },
          "metadata": {},
          "execution_count": 4
        }
      ],
      "source": [
        "# Напишите Ваше решение в этой ячейке\n",
        "np.arange(10, 51)"
      ]
    },
    {
      "cell_type": "code",
      "execution_count": null,
      "metadata": {
        "id": "L3SZ2XYCMLdX",
        "outputId": "444f381f-0a68-4ccf-ce29-1f7a13550ddc"
      },
      "outputs": [
        {
          "data": {
            "text/plain": [
              "array([10, 11, 12, 13, 14, 15, 16, 17, 18, 19, 20, 21, 22, 23, 24, 25, 26,\n",
              "       27, 28, 29, 30, 31, 32, 33, 34, 35, 36, 37, 38, 39, 40, 41, 42, 43,\n",
              "       44, 45, 46, 47, 48, 49, 50])"
            ]
          },
          "execution_count": 5,
          "metadata": {},
          "output_type": "execute_result"
        }
      ],
      "source": [
        "# НЕ ПИШИТЕ В ЭТОЙ ЯЧЕЙКЕ\n"
      ]
    },
    {
      "cell_type": "markdown",
      "metadata": {
        "id": "V6oICIpMMLdX"
      },
      "source": [
        "#### 6. Создайте массив всех чётных чисел от 10 до 50 включительно"
      ]
    },
    {
      "cell_type": "code",
      "execution_count": null,
      "metadata": {
        "collapsed": true,
        "colab": {
          "base_uri": "https://localhost:8080/"
        },
        "id": "G7crD6YcMLdX",
        "outputId": "d3ded069-1ceb-4f52-aa48-665e04b03e1c"
      },
      "outputs": [
        {
          "output_type": "execute_result",
          "data": {
            "text/plain": [
              "array([10, 12, 14, 16, 18, 20, 22, 24, 26, 28, 30, 32, 34, 36, 38, 40, 42,\n",
              "       44, 46, 48, 50])"
            ]
          },
          "metadata": {},
          "execution_count": 5
        }
      ],
      "source": [
        "# Напишите Ваше решение в этой ячейке\n",
        "np.arange(10, 51, 2)"
      ]
    },
    {
      "cell_type": "code",
      "execution_count": null,
      "metadata": {
        "id": "hGJyolyuMLdY",
        "outputId": "6b77217e-1aba-4155-a06f-b66688e8b18d"
      },
      "outputs": [
        {
          "data": {
            "text/plain": [
              "array([10, 12, 14, 16, 18, 20, 22, 24, 26, 28, 30, 32, 34, 36, 38, 40, 42,\n",
              "       44, 46, 48, 50])"
            ]
          },
          "execution_count": 6,
          "metadata": {},
          "output_type": "execute_result"
        }
      ],
      "source": [
        "# НЕ ПИШИТЕ В ЭТОЙ ЯЧЕЙКЕ\n"
      ]
    },
    {
      "cell_type": "markdown",
      "metadata": {
        "id": "srg2WWVLMLdY"
      },
      "source": [
        "#### 7. Создайте матрицу 3x3 со значениями от 0 до 8 включительно"
      ]
    },
    {
      "cell_type": "code",
      "execution_count": null,
      "metadata": {
        "collapsed": true,
        "colab": {
          "base_uri": "https://localhost:8080/"
        },
        "id": "kbA1_dlMMLdY",
        "outputId": "a0916728-273b-4e56-8184-ab05e4e166ba"
      },
      "outputs": [
        {
          "output_type": "execute_result",
          "data": {
            "text/plain": [
              "array([[0, 1, 2],\n",
              "       [3, 4, 5],\n",
              "       [6, 7, 8]])"
            ]
          },
          "metadata": {},
          "execution_count": 8
        }
      ],
      "source": [
        "# Напишите Ваше решение в этой ячейке\n",
        "np.arange(0, 9).reshape(3, 3)"
      ]
    },
    {
      "cell_type": "code",
      "execution_count": null,
      "metadata": {
        "id": "nUMIO6dqMLdY",
        "outputId": "ca163a53-b835-4a58-e251-d38c7d79b874"
      },
      "outputs": [
        {
          "data": {
            "text/plain": [
              "array([[0, 1, 2],\n",
              "       [3, 4, 5],\n",
              "       [6, 7, 8]])"
            ]
          },
          "execution_count": 7,
          "metadata": {},
          "output_type": "execute_result"
        }
      ],
      "source": [
        "# НЕ ПИШИТЕ В ЭТОЙ ЯЧЕЙКЕ\n"
      ]
    },
    {
      "cell_type": "markdown",
      "metadata": {
        "id": "eOX0bFalMLdZ"
      },
      "source": [
        "#### 8. Создайте единичную матрицу размером 3x3"
      ]
    },
    {
      "cell_type": "code",
      "execution_count": null,
      "metadata": {
        "collapsed": true,
        "colab": {
          "base_uri": "https://localhost:8080/"
        },
        "id": "X9eavIyFMLdZ",
        "outputId": "0109adc5-0668-4265-9e3e-0dc693514a93"
      },
      "outputs": [
        {
          "output_type": "execute_result",
          "data": {
            "text/plain": [
              "array([[1., 0., 0.],\n",
              "       [0., 1., 0.],\n",
              "       [0., 0., 1.]])"
            ]
          },
          "metadata": {},
          "execution_count": 9
        }
      ],
      "source": [
        "# Напишите Ваше решение в этой ячейке\n",
        "np.eye(3, 3)"
      ]
    },
    {
      "cell_type": "code",
      "execution_count": null,
      "metadata": {
        "id": "1pTodVJcMLdZ",
        "outputId": "d7261a16-9078-40cb-a925-5f8c238f102c"
      },
      "outputs": [
        {
          "data": {
            "text/plain": [
              "array([[1., 0., 0.],\n",
              "       [0., 1., 0.],\n",
              "       [0., 0., 1.]])"
            ]
          },
          "execution_count": 8,
          "metadata": {},
          "output_type": "execute_result"
        }
      ],
      "source": [
        "# НЕ ПИШИТЕ В ЭТОЙ ЯЧЕЙКЕ\n"
      ]
    },
    {
      "cell_type": "markdown",
      "metadata": {
        "id": "RsHTUh_6MLdZ"
      },
      "source": [
        "#### 9. С помощью NumPy сгенерируйте случайное число в диапазоне от 0 до 1<br><br>&emsp;Замечание: Ваш результат может отличаться от того, что указано в качестве примера ниже."
      ]
    },
    {
      "cell_type": "code",
      "execution_count": null,
      "metadata": {
        "collapsed": true,
        "colab": {
          "base_uri": "https://localhost:8080/"
        },
        "id": "nuUF-QAQMLdZ",
        "outputId": "ce246718-aeeb-4d5e-a192-98069c487b1d"
      },
      "outputs": [
        {
          "output_type": "execute_result",
          "data": {
            "text/plain": [
              "array([0.33456436])"
            ]
          },
          "metadata": {},
          "execution_count": 11
        }
      ],
      "source": [
        "# Напишите Ваше решение в этой ячейке\n",
        "np.random.rand(1)"
      ]
    },
    {
      "cell_type": "code",
      "execution_count": null,
      "metadata": {
        "id": "6a_vk04_MLdZ",
        "outputId": "343887eb-263e-49a0-a431-9652f0ebb04d"
      },
      "outputs": [
        {
          "data": {
            "text/plain": [
              "array([0.65248055])"
            ]
          },
          "execution_count": 9,
          "metadata": {},
          "output_type": "execute_result"
        }
      ],
      "source": [
        "# НЕ ПИШИТЕ В ЭТОЙ ЯЧЕЙКЕ\n"
      ]
    },
    {
      "cell_type": "markdown",
      "metadata": {
        "id": "bRKBDq-5MLdZ"
      },
      "source": [
        "#### 10. С помощью NumPy сгенерируйте массив из 25 случайных чисел, выбранных из стандартного нормального распределения<br><br>&emsp;&ensp;Замечание: Ваш результат может отличаться от того, что указано в качестве примера ниже."
      ]
    },
    {
      "cell_type": "code",
      "execution_count": null,
      "metadata": {
        "collapsed": true,
        "colab": {
          "base_uri": "https://localhost:8080/"
        },
        "id": "yj9nxf1HMLda",
        "outputId": "ce6dcb3f-40f3-4dee-ae92-56d596be6752"
      },
      "outputs": [
        {
          "output_type": "execute_result",
          "data": {
            "text/plain": [
              "array([[-1.59640716,  0.32646103,  0.58652597,  0.89141544,  1.85377419],\n",
              "       [ 2.21607094, -0.79144163, -1.76175435, -1.0487902 ,  0.63807609],\n",
              "       [-1.25414184, -0.85594336,  0.63979013,  0.04887852, -0.84143848],\n",
              "       [-0.13661822, -1.00375868,  0.54172919,  0.525665  , -2.53651988],\n",
              "       [-0.28459452, -0.21960757,  0.3141698 , -0.17400461, -0.99745135]])"
            ]
          },
          "metadata": {},
          "execution_count": 12
        }
      ],
      "source": [
        "# Напишите Ваше решение в этой ячейке\n",
        "np.random.randn(5, 5)"
      ]
    },
    {
      "cell_type": "code",
      "execution_count": null,
      "metadata": {
        "id": "rSJmetIJMLda",
        "outputId": "e2afa306-ba67-4b43-d3f9-031ba6517b6d"
      },
      "outputs": [
        {
          "data": {
            "text/plain": [
              "array([ 1.80076712, -1.12375847, -0.98524305,  0.11673573,  1.96346762,\n",
              "        1.81378592, -0.33790771,  0.85012656,  0.0100703 , -0.91005957,\n",
              "        0.29064366,  0.69906357,  0.1774377 , -0.61958694, -0.45498611,\n",
              "       -2.0804685 , -0.06778549,  1.06403819,  0.4311884 , -1.09853837,\n",
              "        1.11980469, -0.48751963,  1.32517611, -0.61775122, -0.00622865])"
            ]
          },
          "execution_count": 10,
          "metadata": {},
          "output_type": "execute_result"
        }
      ],
      "source": [
        "# НЕ ПИШИТЕ В ЭТОЙ ЯЧЕЙКЕ\n"
      ]
    },
    {
      "cell_type": "markdown",
      "metadata": {
        "id": "inJbCeMpMLda"
      },
      "source": [
        "#### 11. Создайте указанную ниже матрицу:"
      ]
    },
    {
      "cell_type": "code",
      "execution_count": null,
      "metadata": {
        "collapsed": true,
        "colab": {
          "base_uri": "https://localhost:8080/"
        },
        "id": "86ALrpLSMLdb",
        "outputId": "e9a74508-1d67-4519-e470-66f4306d9821"
      },
      "outputs": [
        {
          "output_type": "execute_result",
          "data": {
            "text/plain": [
              "array([0.01, 0.02, 0.03, 0.04, 0.05, 0.06, 0.07, 0.08, 0.09, 0.1 , 0.11,\n",
              "       0.12, 0.13, 0.14, 0.15, 0.16, 0.17, 0.18, 0.19, 0.2 , 0.21, 0.22,\n",
              "       0.23, 0.24, 0.25, 0.26, 0.27, 0.28, 0.29, 0.3 , 0.31, 0.32, 0.33,\n",
              "       0.34, 0.35, 0.36, 0.37, 0.38, 0.39, 0.4 , 0.41, 0.42, 0.43, 0.44,\n",
              "       0.45, 0.46, 0.47, 0.48, 0.49, 0.5 , 0.51, 0.52, 0.53, 0.54, 0.55,\n",
              "       0.56, 0.57, 0.58, 0.59, 0.6 , 0.61, 0.62, 0.63, 0.64, 0.65, 0.66,\n",
              "       0.67, 0.68, 0.69, 0.7 , 0.71, 0.72, 0.73, 0.74, 0.75, 0.76, 0.77,\n",
              "       0.78, 0.79, 0.8 , 0.81, 0.82, 0.83, 0.84, 0.85, 0.86, 0.87, 0.88,\n",
              "       0.89, 0.9 , 0.91, 0.92, 0.93, 0.94, 0.95, 0.96, 0.97, 0.98, 0.99,\n",
              "       1.  ])"
            ]
          },
          "metadata": {},
          "execution_count": 18
        }
      ],
      "source": [
        "# Напишите Ваше решение в этой ячейке\n",
        "np.linspace(0.01, 1, 100)"
      ]
    },
    {
      "cell_type": "code",
      "execution_count": null,
      "metadata": {
        "id": "Ciz3pazTMLdb",
        "outputId": "befa4faf-a99d-4d9d-fbea-97dd134b86de"
      },
      "outputs": [
        {
          "data": {
            "text/plain": [
              "array([[0.01, 0.02, 0.03, 0.04, 0.05, 0.06, 0.07, 0.08, 0.09, 0.1 ],\n",
              "       [0.11, 0.12, 0.13, 0.14, 0.15, 0.16, 0.17, 0.18, 0.19, 0.2 ],\n",
              "       [0.21, 0.22, 0.23, 0.24, 0.25, 0.26, 0.27, 0.28, 0.29, 0.3 ],\n",
              "       [0.31, 0.32, 0.33, 0.34, 0.35, 0.36, 0.37, 0.38, 0.39, 0.4 ],\n",
              "       [0.41, 0.42, 0.43, 0.44, 0.45, 0.46, 0.47, 0.48, 0.49, 0.5 ],\n",
              "       [0.51, 0.52, 0.53, 0.54, 0.55, 0.56, 0.57, 0.58, 0.59, 0.6 ],\n",
              "       [0.61, 0.62, 0.63, 0.64, 0.65, 0.66, 0.67, 0.68, 0.69, 0.7 ],\n",
              "       [0.71, 0.72, 0.73, 0.74, 0.75, 0.76, 0.77, 0.78, 0.79, 0.8 ],\n",
              "       [0.81, 0.82, 0.83, 0.84, 0.85, 0.86, 0.87, 0.88, 0.89, 0.9 ],\n",
              "       [0.91, 0.92, 0.93, 0.94, 0.95, 0.96, 0.97, 0.98, 0.99, 1.  ]])"
            ]
          },
          "execution_count": 11,
          "metadata": {},
          "output_type": "execute_result"
        }
      ],
      "source": [
        "# НЕ ПИШИТЕ В ЭТОЙ ЯЧЕЙКЕ\n"
      ]
    },
    {
      "cell_type": "markdown",
      "metadata": {
        "id": "CRPGlERxMLdb"
      },
      "source": [
        "#### 12. Создайте массив из 20 равноудалённых друг от друга точек между 0 и 1:"
      ]
    },
    {
      "cell_type": "code",
      "execution_count": null,
      "metadata": {
        "collapsed": true,
        "colab": {
          "base_uri": "https://localhost:8080/"
        },
        "id": "NF9Sa0WoMLdb",
        "outputId": "49300771-3068-4492-9c64-b9c848e569f0"
      },
      "outputs": [
        {
          "output_type": "execute_result",
          "data": {
            "text/plain": [
              "array([0.        , 0.05263158, 0.10526316, 0.15789474, 0.21052632,\n",
              "       0.26315789, 0.31578947, 0.36842105, 0.42105263, 0.47368421,\n",
              "       0.52631579, 0.57894737, 0.63157895, 0.68421053, 0.73684211,\n",
              "       0.78947368, 0.84210526, 0.89473684, 0.94736842, 1.        ])"
            ]
          },
          "metadata": {},
          "execution_count": 19
        }
      ],
      "source": [
        "# Напишите Ваше решение в этой ячейке\n",
        "np.linspace(0, 1, 20)"
      ]
    },
    {
      "cell_type": "code",
      "execution_count": null,
      "metadata": {
        "id": "qcMjqhBeMLdb",
        "outputId": "18c18b10-8e7c-44a5-8501-5acfc91acd57"
      },
      "outputs": [
        {
          "data": {
            "text/plain": [
              "array([0.        , 0.05263158, 0.10526316, 0.15789474, 0.21052632,\n",
              "       0.26315789, 0.31578947, 0.36842105, 0.42105263, 0.47368421,\n",
              "       0.52631579, 0.57894737, 0.63157895, 0.68421053, 0.73684211,\n",
              "       0.78947368, 0.84210526, 0.89473684, 0.94736842, 1.        ])"
            ]
          },
          "execution_count": 12,
          "metadata": {},
          "output_type": "execute_result"
        }
      ],
      "source": [
        "# НЕ ПИШИТЕ В ЭТОЙ ЯЧЕЙКЕ\n"
      ]
    },
    {
      "cell_type": "markdown",
      "metadata": {
        "id": "cTLp-5_KMLdc"
      },
      "source": [
        "## Индексация Numpy\n",
        "\n",
        "Здесь Вы будете работать с некоторой матрицей - чтобы создать её, запустите следующую ячейку! После этого мы попросим Вас воспроизвести несколько результатов работы с этой матрицей:"
      ]
    },
    {
      "cell_type": "code",
      "execution_count": null,
      "metadata": {
        "colab": {
          "base_uri": "https://localhost:8080/"
        },
        "id": "dTwX8rsdMLdc",
        "outputId": "3197e4c4-c283-4898-fe85-fe559365fa55"
      },
      "outputs": [
        {
          "output_type": "execute_result",
          "data": {
            "text/plain": [
              "array([[ 1,  2,  3,  4,  5],\n",
              "       [ 6,  7,  8,  9, 10],\n",
              "       [11, 12, 13, 14, 15],\n",
              "       [16, 17, 18, 19, 20],\n",
              "       [21, 22, 23, 24, 25]])"
            ]
          },
          "metadata": {},
          "execution_count": 20
        }
      ],
      "source": [
        "# ЗАПУСТИТЕ ЭТУ ЯЧЕЙКУ - ЭТО СОЗДАНИЕ МАТРИЦЫ ДЛЯ СЛЕДУЮЩИХ ЗАДАНИЙ\n",
        "mat = np.arange(1,26).reshape(5,5)\n",
        "mat"
      ]
    },
    {
      "cell_type": "markdown",
      "metadata": {
        "id": "PiSE9hbBMLdd"
      },
      "source": [
        "#### 13. Напишите код, который на основе матрицы mat выведет указанную ниже матрицу (подсказка - используйте индексацию)."
      ]
    },
    {
      "cell_type": "code",
      "execution_count": null,
      "metadata": {
        "collapsed": true,
        "colab": {
          "base_uri": "https://localhost:8080/"
        },
        "id": "NzoMTexJMLdd",
        "outputId": "8a039329-881c-4253-dd9c-bcfefcb2bbca"
      },
      "outputs": [
        {
          "output_type": "execute_result",
          "data": {
            "text/plain": [
              "array([[12, 13, 14, 15],\n",
              "       [17, 18, 19, 20],\n",
              "       [22, 23, 24, 25]])"
            ]
          },
          "metadata": {},
          "execution_count": 22
        }
      ],
      "source": [
        "# Напишите Ваше решение в этой ячейке\n",
        "mat[2:, 1:]"
      ]
    },
    {
      "cell_type": "code",
      "execution_count": null,
      "metadata": {
        "id": "mR2ecbtSMLdd",
        "outputId": "4fe23467-7a18-4f85-df30-155fa553c1c9"
      },
      "outputs": [
        {
          "data": {
            "text/plain": [
              "array([[12, 13, 14, 15],\n",
              "       [17, 18, 19, 20],\n",
              "       [22, 23, 24, 25]])"
            ]
          },
          "execution_count": 14,
          "metadata": {},
          "output_type": "execute_result"
        }
      ],
      "source": [
        "# НЕ ПИШИТЕ В ЭТОЙ ЯЧЕЙКЕ\n"
      ]
    },
    {
      "cell_type": "markdown",
      "metadata": {
        "id": "zbG49SW_MLde"
      },
      "source": [
        "#### 14. Напишите код, который на основе матрицы mat выведет указанную ниже матрицу."
      ]
    },
    {
      "cell_type": "code",
      "execution_count": null,
      "metadata": {
        "collapsed": true,
        "colab": {
          "base_uri": "https://localhost:8080/"
        },
        "id": "uHb14M__MLde",
        "outputId": "aa9bd33d-e374-4e87-9bb5-755a96fb1f84"
      },
      "outputs": [
        {
          "output_type": "execute_result",
          "data": {
            "text/plain": [
              "20"
            ]
          },
          "metadata": {},
          "execution_count": 24
        }
      ],
      "source": [
        "# Напишите Ваше решение в этой ячейке\n",
        "mat[3, 4]"
      ]
    },
    {
      "cell_type": "code",
      "execution_count": null,
      "metadata": {
        "id": "6Ub_YE7MMLde",
        "outputId": "89e86a04-b824-47cc-a5c4-301306b991e7"
      },
      "outputs": [
        {
          "data": {
            "text/plain": [
              "20"
            ]
          },
          "execution_count": 15,
          "metadata": {},
          "output_type": "execute_result"
        }
      ],
      "source": [
        "# НЕ ПИШИТЕ В ЭТОЙ ЯЧЕЙКЕ\n"
      ]
    },
    {
      "cell_type": "markdown",
      "metadata": {
        "id": "A38CdWU7MLdf"
      },
      "source": [
        "#### 15. Напишите код, который на основе матрицы mat выведет указанную ниже матрицу."
      ]
    },
    {
      "cell_type": "code",
      "execution_count": null,
      "metadata": {
        "collapsed": true,
        "colab": {
          "base_uri": "https://localhost:8080/"
        },
        "id": "wp4j6SrYMLdf",
        "outputId": "e61887f2-395a-4e1a-c6fb-4116ab2bfbb6"
      },
      "outputs": [
        {
          "output_type": "execute_result",
          "data": {
            "text/plain": [
              "array([[ 2],\n",
              "       [ 7],\n",
              "       [12]])"
            ]
          },
          "metadata": {},
          "execution_count": 66
        }
      ],
      "source": [
        "# Напишите Ваше решение в этой ячейке\n",
        "mat[:3, 1].reshape(3, 1)"
      ]
    },
    {
      "cell_type": "code",
      "execution_count": null,
      "metadata": {
        "id": "-DhhBMEgMLdf",
        "outputId": "abf54ebe-9efd-440a-d505-9bdd2f617f48"
      },
      "outputs": [
        {
          "data": {
            "text/plain": [
              "array([[ 2],\n",
              "       [ 7],\n",
              "       [12]])"
            ]
          },
          "execution_count": 16,
          "metadata": {},
          "output_type": "execute_result"
        }
      ],
      "source": [
        "# НЕ ПИШИТЕ В ЭТОЙ ЯЧЕЙКЕ\n"
      ]
    },
    {
      "cell_type": "markdown",
      "metadata": {
        "id": "X2dj0jtPMLdf"
      },
      "source": [
        "#### 16. Напишите код, который на основе матрицы mat выведет указанную ниже матрицу."
      ]
    },
    {
      "cell_type": "code",
      "execution_count": null,
      "metadata": {
        "collapsed": true,
        "colab": {
          "base_uri": "https://localhost:8080/"
        },
        "id": "Mrl3NLkaMLdg",
        "outputId": "eff0c665-713e-49ab-ce76-cddbba6afb17"
      },
      "outputs": [
        {
          "output_type": "execute_result",
          "data": {
            "text/plain": [
              "array([21, 22, 23, 24, 25])"
            ]
          },
          "metadata": {},
          "execution_count": 39
        }
      ],
      "source": [
        "# Напишите Ваше решение в этой ячейке\n",
        "mat[4]"
      ]
    },
    {
      "cell_type": "code",
      "execution_count": null,
      "metadata": {
        "id": "0cmnMZ-vMLdg",
        "outputId": "25f3eeb8-bcf7-4010-f650-c3cbbf4b2fe5"
      },
      "outputs": [
        {
          "data": {
            "text/plain": [
              "array([21, 22, 23, 24, 25])"
            ]
          },
          "execution_count": 17,
          "metadata": {},
          "output_type": "execute_result"
        }
      ],
      "source": [
        "# НЕ ПИШИТЕ В ЭТОЙ ЯЧЕЙКЕ\n"
      ]
    },
    {
      "cell_type": "markdown",
      "metadata": {
        "id": "ihnSMPbsMLdg"
      },
      "source": [
        "#### 17. Напишите код, который на основе матрицы mat выведет указанную ниже матрицу."
      ]
    },
    {
      "cell_type": "code",
      "execution_count": null,
      "metadata": {
        "collapsed": true,
        "colab": {
          "base_uri": "https://localhost:8080/"
        },
        "id": "5XTLyC5mMLdg",
        "outputId": "2e271164-c358-4b64-fb1a-9d5be9dbdabb"
      },
      "outputs": [
        {
          "output_type": "execute_result",
          "data": {
            "text/plain": [
              "array([[16, 17, 18, 19, 20],\n",
              "       [21, 22, 23, 24, 25]])"
            ]
          },
          "metadata": {},
          "execution_count": 41
        }
      ],
      "source": [
        "# Напишите Ваше решение в этой ячейке\n",
        "mat[3:]"
      ]
    },
    {
      "cell_type": "code",
      "execution_count": null,
      "metadata": {
        "id": "yUm13TWeMLdg",
        "outputId": "a796c33f-aaaf-4926-93f0-04dd8a871684"
      },
      "outputs": [
        {
          "data": {
            "text/plain": [
              "array([[16, 17, 18, 19, 20],\n",
              "       [21, 22, 23, 24, 25]])"
            ]
          },
          "execution_count": 18,
          "metadata": {},
          "output_type": "execute_result"
        }
      ],
      "source": [
        "# НЕ ПИШИТЕ В ЭТОЙ ЯЧЕЙКЕ\n"
      ]
    },
    {
      "cell_type": "markdown",
      "metadata": {
        "id": "PMk_Q4amMLdh"
      },
      "source": [
        "## Операции в NumPy"
      ]
    },
    {
      "cell_type": "markdown",
      "metadata": {
        "id": "F8v73GoHMLdh"
      },
      "source": [
        "#### 18. Найдите сумму всех чисел в матрице mat"
      ]
    },
    {
      "cell_type": "code",
      "execution_count": null,
      "metadata": {
        "collapsed": true,
        "colab": {
          "base_uri": "https://localhost:8080/"
        },
        "id": "IEeL1megMLdh",
        "outputId": "3191c324-3401-4d7c-8c13-71c00625ea85"
      },
      "outputs": [
        {
          "output_type": "execute_result",
          "data": {
            "text/plain": [
              "325"
            ]
          },
          "metadata": {},
          "execution_count": 35
        }
      ],
      "source": [
        "# Напишите Ваше решение в этой ячейке\n",
        "mat.sum()"
      ]
    },
    {
      "cell_type": "code",
      "execution_count": null,
      "metadata": {
        "id": "rY9j36glMLdh",
        "outputId": "bfe4774f-9a4b-45b4-eaf4-62d208869eff"
      },
      "outputs": [
        {
          "data": {
            "text/plain": [
              "325"
            ]
          },
          "execution_count": 19,
          "metadata": {},
          "output_type": "execute_result"
        }
      ],
      "source": [
        "# НЕ ПИШИТЕ В ЭТОЙ ЯЧЕЙКЕ\n"
      ]
    },
    {
      "cell_type": "markdown",
      "metadata": {
        "id": "4ahXJCbsMLdi"
      },
      "source": [
        "#### 19. Найдите среднеквадратичное отклонение значений в матрице mat"
      ]
    },
    {
      "cell_type": "code",
      "execution_count": null,
      "metadata": {
        "collapsed": true,
        "colab": {
          "base_uri": "https://localhost:8080/"
        },
        "id": "gRwcBfxhMLdi",
        "outputId": "1b4acd88-f90f-4ac9-8967-209ad80c4124"
      },
      "outputs": [
        {
          "output_type": "execute_result",
          "data": {
            "text/plain": [
              "7.211102550927978"
            ]
          },
          "metadata": {},
          "execution_count": 36
        }
      ],
      "source": [
        "# Напишите Ваше решение в этой ячейке\n",
        "mat.std()"
      ]
    },
    {
      "cell_type": "code",
      "execution_count": null,
      "metadata": {
        "id": "pNpWVcPJMLdi",
        "outputId": "8d7fcdc4-1844-4f44-d7b8-52d89dde6bdc"
      },
      "outputs": [
        {
          "data": {
            "text/plain": [
              "7.211102550927978"
            ]
          },
          "execution_count": 20,
          "metadata": {},
          "output_type": "execute_result"
        }
      ],
      "source": [
        "# НЕ ПИШИТЕ В ЭТОЙ ЯЧЕЙКЕ\n"
      ]
    },
    {
      "cell_type": "markdown",
      "metadata": {
        "id": "s-kp_D78MLdj"
      },
      "source": [
        "#### 20. Найдите сумму каждой из колонок в матрице mat"
      ]
    },
    {
      "cell_type": "code",
      "execution_count": null,
      "metadata": {
        "collapsed": true,
        "colab": {
          "base_uri": "https://localhost:8080/"
        },
        "id": "DpcBpcGSMLdj",
        "outputId": "50266f12-3541-4b5b-c147-6a42448f8d7a"
      },
      "outputs": [
        {
          "output_type": "execute_result",
          "data": {
            "text/plain": [
              "array([55, 60, 65, 70, 75])"
            ]
          },
          "metadata": {},
          "execution_count": 37
        }
      ],
      "source": [
        "# Напишите Ваше решение в этой ячейке\n",
        "mat.sum(axis = 0)"
      ]
    },
    {
      "cell_type": "code",
      "execution_count": null,
      "metadata": {
        "id": "DxLYoLJVMLdj",
        "outputId": "eb1ad81a-94e5-4175-89ae-8d4eb2fa4295"
      },
      "outputs": [
        {
          "data": {
            "text/plain": [
              "array([55, 60, 65, 70, 75])"
            ]
          },
          "execution_count": 21,
          "metadata": {},
          "output_type": "execute_result"
        }
      ],
      "source": [
        "# НЕ ПИШИТЕ В ЭТОЙ ЯЧЕЙКЕ\n"
      ]
    },
    {
      "cell_type": "markdown",
      "metadata": {
        "id": "M323JS5tMLdj"
      },
      "source": [
        "## Бонусный вопрос\n",
        "\n",
        "Мы много работали со случайными данными в numpy, но есть ли способ каждый раз получать одни и те же \"случайные\" результаты? [Для подсказки нажмите здесь](https://www.google.com/search?q=numpy+random+seed&rlz=1C1CHBF_enUS747US747&oq=numpy+random+seed&aqs=chrome..69i57j69i60j0l4.2087j0j7&sourceid=chrome&ie=UTF-8)"
      ]
    },
    {
      "cell_type": "code",
      "execution_count": null,
      "metadata": {
        "collapsed": true,
        "colab": {
          "base_uri": "https://localhost:8080/"
        },
        "id": "ysH1auNtMLdk",
        "outputId": "459cfaac-e846-4f6e-c254-ce9d96f30b04"
      },
      "outputs": [
        {
          "output_type": "execute_result",
          "data": {
            "text/plain": [
              "array([ 0.49671415, -0.1382643 ,  0.64768854,  1.52302986])"
            ]
          },
          "metadata": {},
          "execution_count": 57
        }
      ],
      "source": [
        "# Напишите Ваше решение в этой ячейке\n",
        "np.random.seed(42)\n",
        "np.random.randn(4)"
      ]
    },
    {
      "cell_type": "code",
      "source": [
        "np.random.seed(42)\n",
        "np.random.randn(4)"
      ],
      "metadata": {
        "colab": {
          "base_uri": "https://localhost:8080/"
        },
        "id": "WIz90tLPPvnt",
        "outputId": "3a77525e-25fe-4963-b6ab-db09a821e81c"
      },
      "execution_count": null,
      "outputs": [
        {
          "output_type": "execute_result",
          "data": {
            "text/plain": [
              "array([ 0.49671415, -0.1382643 ,  0.64768854,  1.52302986])"
            ]
          },
          "metadata": {},
          "execution_count": 58
        }
      ]
    },
    {
      "cell_type": "markdown",
      "metadata": {
        "collapsed": true,
        "id": "3o8JbU4QMLdk"
      },
      "source": [
        "# Отличная работа!"
      ]
    },
    {
      "cell_type": "code",
      "execution_count": null,
      "metadata": {
        "id": "zldJsmtqMLdk"
      },
      "outputs": [],
      "source": []
    }
  ],
  "metadata": {
    "anaconda-cloud": {},
    "kernelspec": {
      "display_name": "Python 3",
      "language": "python",
      "name": "python3"
    },
    "language_info": {
      "codemirror_mode": {
        "name": "ipython",
        "version": 3
      },
      "file_extension": ".py",
      "mimetype": "text/x-python",
      "name": "python",
      "nbconvert_exporter": "python",
      "pygments_lexer": "ipython3",
      "version": "3.8.5"
    },
    "colab": {
      "provenance": []
    }
  },
  "nbformat": 4,
  "nbformat_minor": 0
}